{
 "cells": [
  {
   "cell_type": "markdown",
   "id": "2ee16c2e",
   "metadata": {},
   "source": [
    "# CODE TO CLASSIFY TRAFFIC SIGNS USING LE-NET ARCHITECTURE IN KERAS\n",
    "\n",
    "# STEP 0: PROBLEM STATEMENT"
   ]
  },
  {
   "cell_type": "markdown",
   "id": "297e10cf",
   "metadata": {},
   "source": [
    "- The dataset contains 43 different classes of images. \n",
    "- Classes are as listed below: \n",
    "\n",
    "    - ( 0, b'Speed limit (20km/h)') ( 1, b'Speed limit (30km/h)')\n",
    "    - ( 2, b'Speed limit (50km/h)') ( 3, b'Speed limit (60km/h)')\n",
    "    - ( 4, b'Speed limit (70km/h)') ( 5, b'Speed limit (80km/h)')\n",
    "    - ( 6, b'End of speed limit (80km/h)') ( 7, b'Speed limit (100km/h)')\n",
    "    - ( 8, b'Speed limit (120km/h)') ( 9, b'No passing')\n",
    "    - (10, b'No passing for vehicles over 3.5 metric tons')\n",
    "    - (11, b'Right-of-way at the next intersection') (12, b'Priority road')\n",
    "    - (13, b'Yield') (14, b'Stop') (15, b'No vehicles')\n",
    "    - (16, b'Vehicles over 3.5 metric tons prohibited') (17, b'No entry')\n",
    "    - (18, b'General caution') (19, b'Dangerous curve to the left')\n",
    "    - (20, b'Dangerous curve to the right') (21, b'Double curve')\n",
    "    - (22, b'Bumpy road') (23, b'Slippery road')\n",
    "    - (24, b'Road narrows on the right') (25, b'Road work')\n",
    "    - (26, b'Traffic signals') (27, b'Pedestrians') (28, b'Children crossing')\n",
    "    - (29, b'Bicycles crossing') (30, b'Beware of ice/snow')\n",
    "    - (31, b'Wild animals crossing')\n",
    "    - (32, b'End of all speed and passing limits') (33, b'Turn right ahead')\n",
    "    - (34, b'Turn left ahead') (35, b'Ahead only') (36, b'Go straight or right')\n",
    "    - (37, b'Go straight or left') (38, b'Keep right') (39, b'Keep left')\n",
    "    - (40, b'Roundabout mandatory') (41, b'End of no passing')\n",
    "    - (42, b'End of no passing by vehicles over 3.5 metric tons')\n",
    "    "
   ]
  },
  {
   "cell_type": "markdown",
   "id": "b11823ca",
   "metadata": {},
   "source": [
    "# Step 1: IMPORT LIBRARIES AND DATASET"
   ]
  },
  {
   "cell_type": "code",
   "execution_count": 3,
   "id": "a30dfdb3",
   "metadata": {},
   "outputs": [
    {
     "name": "stderr",
     "output_type": "stream",
     "text": [
      "C:\\Users\\Natan\\anaconda3\\lib\\site-packages\\scipy\\__init__.py:146: UserWarning: A NumPy version >=1.16.5 and <1.23.0 is required for this version of SciPy (detected version 1.26.2\n",
      "  warnings.warn(f\"A NumPy version >={np_minversion} and <{np_maxversion}\"\n"
     ]
    }
   ],
   "source": [
    "import pandas as pd\n",
    "import numpy as np\n",
    "import matplotlib.pyplot as plt\n",
    "import seaborn as sns\n",
    "import pickle"
   ]
  },
  {
   "cell_type": "code",
   "execution_count": 4,
   "id": "f1ff1bb2",
   "metadata": {},
   "outputs": [],
   "source": [
    "with open('./traffic-signs-data/train.p', mode='rb') as training_data:\n",
    "    train = pickle.load(training_data)\n",
    "with open('./traffic-signs-data/valid.p', mode='rb') as validation_data:\n",
    "    valid = pickle.load(validation_data)\n",
    "with open('./traffic-signs-data/test.p', mode='rb') as testing_data:\n",
    "    test = pickle.load(testing_data)"
   ]
  },
  {
   "cell_type": "code",
   "execution_count": 5,
   "id": "3bec6adf",
   "metadata": {},
   "outputs": [],
   "source": [
    "X_train, y_train = train['features'], train['labels']\n",
    "X_validation, y_validation = valid['features'], valid['labels']\n",
    "X_test, y_test = test['features'], test['labels']"
   ]
  },
  {
   "cell_type": "code",
   "execution_count": 6,
   "id": "5339c1ff",
   "metadata": {},
   "outputs": [
    {
     "data": {
      "text/plain": [
       "(34799, 32, 32, 3)"
      ]
     },
     "execution_count": 6,
     "metadata": {},
     "output_type": "execute_result"
    }
   ],
   "source": [
    "X_train.shape"
   ]
  },
  {
   "cell_type": "code",
   "execution_count": 7,
   "id": "b60b03d6",
   "metadata": {},
   "outputs": [
    {
     "data": {
      "text/plain": [
       "(34799,)"
      ]
     },
     "execution_count": 7,
     "metadata": {},
     "output_type": "execute_result"
    }
   ],
   "source": [
    "y_train.shape"
   ]
  },
  {
   "cell_type": "code",
   "execution_count": 8,
   "id": "a72d8cab",
   "metadata": {},
   "outputs": [
    {
     "data": {
      "text/plain": [
       "(4410, 32, 32, 3)"
      ]
     },
     "execution_count": 8,
     "metadata": {},
     "output_type": "execute_result"
    }
   ],
   "source": [
    "X_validation.shape"
   ]
  },
  {
   "cell_type": "code",
   "execution_count": 9,
   "id": "cf0d72ea",
   "metadata": {},
   "outputs": [
    {
     "data": {
      "text/plain": [
       "(4410,)"
      ]
     },
     "execution_count": 9,
     "metadata": {},
     "output_type": "execute_result"
    }
   ],
   "source": [
    "y_validation.shape"
   ]
  },
  {
   "cell_type": "code",
   "execution_count": 10,
   "id": "800fe866",
   "metadata": {},
   "outputs": [
    {
     "data": {
      "text/plain": [
       "(12630, 32, 32, 3)"
      ]
     },
     "execution_count": 10,
     "metadata": {},
     "output_type": "execute_result"
    }
   ],
   "source": [
    "X_test.shape"
   ]
  },
  {
   "cell_type": "code",
   "execution_count": 11,
   "id": "f8a3a6a7",
   "metadata": {},
   "outputs": [
    {
     "data": {
      "text/plain": [
       "(12630,)"
      ]
     },
     "execution_count": 11,
     "metadata": {},
     "output_type": "execute_result"
    }
   ],
   "source": [
    "y_test.shape"
   ]
  },
  {
   "cell_type": "markdown",
   "id": "1f2a3684",
   "metadata": {},
   "source": [
    "# STEP 2: IMAGE EXPLORATION"
   ]
  },
  {
   "cell_type": "code",
   "execution_count": 12,
   "id": "2a0ba11e",
   "metadata": {},
   "outputs": [
    {
     "data": {
      "text/plain": [
       "37"
      ]
     },
     "execution_count": 12,
     "metadata": {},
     "output_type": "execute_result"
    },
    {
     "data": {
      "image/png": "[encoded data removed]",
      "text/plain": [
       "<Figure size 432x288 with 1 Axes>"
      ]
     },
     "metadata": {
      "needs_background": "light"
     },
     "output_type": "display_data"
    }
   ],
   "source": [
    "i = 5000\n",
    "plt.imshow(X_train[i])\n",
    "y_train[i]"
   ]
  },
  {
   "cell_type": "code",
   "execution_count": 13,
   "id": "ea2166d9",
   "metadata": {},
   "outputs": [
    {
     "data": {
      "text/plain": [
       "4"
      ]
     },
     "execution_count": 13,
     "metadata": {},
     "output_type": "execute_result"
    },
    {
     "data": {
      "image/png": "[encoded data removed]",
      "text/plain": [
       "<Figure size 432x288 with 1 Axes>"
      ]
     },
     "metadata": {
      "needs_background": "light"
     },
     "output_type": "display_data"
    }
   ],
   "source": [
    "i = 1000\n",
    "plt.imshow(X_validation[i])\n",
    "y_validation[i]"
   ]
  },
  {
   "cell_type": "code",
   "execution_count": 14,
   "id": "0dae75c2",
   "metadata": {},
   "outputs": [
    {
     "data": {
      "text/plain": [
       "1"
      ]
     },
     "execution_count": 14,
     "metadata": {},
     "output_type": "execute_result"
    },
    {
     "data": {
      "image/png": "[encoded data removed]",
      "text/plain": [
       "<Figure size 432x288 with 1 Axes>"
      ]
     },
     "metadata": {
      "needs_background": "light"
     },
     "output_type": "display_data"
    }
   ],
   "source": [
    "i = 100\n",
    "plt.imshow(X_test[i])\n",
    "y_test[i]"
   ]
  },
  {
   "cell_type": "markdown",
   "id": "d40caafd",
   "metadata": {},
   "source": [
    "# STEP 3: DATA PREPARATION"
   ]
  },
  {
   "cell_type": "code",
   "execution_count": 15,
   "id": "e9339c36",
   "metadata": {},
   "outputs": [],
   "source": [
    "from sklearn.utils import shuffle\n",
    "X_train, y_train = shuffle(X_train, y_train)"
   ]
  },
  {
   "cell_type": "code",
   "execution_count": 16,
   "id": "a0271507",
   "metadata": {},
   "outputs": [],
   "source": [
    "X_train_gray = np.sum(X_train/3, axis = 3, keepdims = True)\n",
    "X_validation_gray = np.sum(X_validation/3, axis = 3, keepdims = True)\n",
    "X_test_gray = np.sum(X_test/3, axis = 3, keepdims = True)"
   ]
  },
  {
   "cell_type": "code",
   "execution_count": 17,
   "id": "7a7f0b24",
   "metadata": {},
   "outputs": [
    {
     "data": {
      "text/plain": [
       "(34799, 32, 32, 1)"
      ]
     },
     "execution_count": 17,
     "metadata": {},
     "output_type": "execute_result"
    }
   ],
   "source": [
    "X_train_gray.shape"
   ]
  },
  {
   "cell_type": "code",
   "execution_count": 18,
   "id": "015cb879",
   "metadata": {},
   "outputs": [
    {
     "data": {
      "text/plain": [
       "(4410, 32, 32, 1)"
      ]
     },
     "execution_count": 18,
     "metadata": {},
     "output_type": "execute_result"
    }
   ],
   "source": [
    "X_validation_gray.shape"
   ]
  },
  {
   "cell_type": "code",
   "execution_count": 19,
   "id": "31f944a5",
   "metadata": {},
   "outputs": [
    {
     "data": {
      "text/plain": [
       "(12630, 32, 32, 1)"
      ]
     },
     "execution_count": 19,
     "metadata": {},
     "output_type": "execute_result"
    }
   ],
   "source": [
    "X_test_gray.shape"
   ]
  },
  {
   "cell_type": "code",
   "execution_count": 20,
   "id": "ba0bf4ed",
   "metadata": {},
   "outputs": [],
   "source": [
    "X_train_gray_norm = (X_train_gray - 128)/128\n",
    "X_test_gray_norm = (X_test_gray - 128)/128\n",
    "X_validation_gray_norm = (X_validation_gray - 128)/128"
   ]
  },
  {
   "cell_type": "code",
   "execution_count": 21,
   "id": "030a3baf",
   "metadata": {},
   "outputs": [
    {
     "data": {
      "text/plain": [
       "array([[[[-0.80989583],\n",
       "         [-0.8203125 ],\n",
       "         [-0.81510417],\n",
       "         ...,\n",
       "         [-0.79427083],\n",
       "         [-0.79947917],\n",
       "         [-0.78125   ]],\n",
       "\n",
       "        [[-0.81770833],\n",
       "         [-0.8359375 ],\n",
       "         [-0.80729167],\n",
       "         ...,\n",
       "         [-0.78125   ],\n",
       "         [-0.79947917],\n",
       "         [-0.77604167]],\n",
       "\n",
       "        [[-0.82552083],\n",
       "         [-0.84635417],\n",
       "         [-0.79947917],\n",
       "         ...,\n",
       "         [-0.79947917],\n",
       "         [-0.79947917],\n",
       "         [-0.78645833]],\n",
       "\n",
       "        ...,\n",
       "\n",
       "        [[-0.7734375 ],\n",
       "         [-0.78385417],\n",
       "         [-0.77083333],\n",
       "         ...,\n",
       "         [-0.78645833],\n",
       "         [-0.78385417],\n",
       "         [-0.765625  ]],\n",
       "\n",
       "        [[-0.7890625 ],\n",
       "         [-0.78385417],\n",
       "         [-0.77083333],\n",
       "         ...,\n",
       "         [-0.79427083],\n",
       "         [-0.78125   ],\n",
       "         [-0.76302083]],\n",
       "\n",
       "        [[-0.78125   ],\n",
       "         [-0.77083333],\n",
       "         [-0.76822917],\n",
       "         ...,\n",
       "         [-0.7734375 ],\n",
       "         [-0.77864583],\n",
       "         [-0.7734375 ]]],\n",
       "\n",
       "\n",
       "       [[[-0.70052083],\n",
       "         [-0.69270833],\n",
       "         [-0.69791667],\n",
       "         ...,\n",
       "         [-0.73697917],\n",
       "         [-0.72916667],\n",
       "         [-0.71614583]],\n",
       "\n",
       "        [[-0.69791667],\n",
       "         [-0.69270833],\n",
       "         [-0.69270833],\n",
       "         ...,\n",
       "         [-0.74479167],\n",
       "         [-0.7265625 ],\n",
       "         [-0.73177083]],\n",
       "\n",
       "        [[-0.6875    ],\n",
       "         [-0.68489583],\n",
       "         [-0.69791667],\n",
       "         ...,\n",
       "         [-0.73958333],\n",
       "         [-0.73958333],\n",
       "         [-0.73958333]],\n",
       "\n",
       "        ...,\n",
       "\n",
       "        [[-0.8359375 ],\n",
       "         [-0.8515625 ],\n",
       "         [-0.85677083],\n",
       "         ...,\n",
       "         [-0.86979167],\n",
       "         [-0.85416667],\n",
       "         [-0.86197917]],\n",
       "\n",
       "        [[-0.84635417],\n",
       "         [-0.85677083],\n",
       "         [-0.85416667],\n",
       "         ...,\n",
       "         [-0.86979167],\n",
       "         [-0.8671875 ],\n",
       "         [-0.86197917]],\n",
       "\n",
       "        [[-0.84114583],\n",
       "         [-0.85416667],\n",
       "         [-0.859375  ],\n",
       "         ...,\n",
       "         [-0.86458333],\n",
       "         [-0.8515625 ],\n",
       "         [-0.85677083]]],\n",
       "\n",
       "\n",
       "       [[[ 0.75260417],\n",
       "         [ 0.53125   ],\n",
       "         [-0.05729167],\n",
       "         ...,\n",
       "         [ 0.9921875 ],\n",
       "         [ 0.9921875 ],\n",
       "         [ 0.9921875 ]],\n",
       "\n",
       "        [[ 0.58854167],\n",
       "         [ 0.48177083],\n",
       "         [ 0.15364583],\n",
       "         ...,\n",
       "         [ 0.9921875 ],\n",
       "         [ 0.9921875 ],\n",
       "         [ 0.98697917]],\n",
       "\n",
       "        [[ 0.65625   ],\n",
       "         [ 0.515625  ],\n",
       "         [ 0.3125    ],\n",
       "         ...,\n",
       "         [ 0.9921875 ],\n",
       "         [ 0.91666667],\n",
       "         [ 0.88802083]],\n",
       "\n",
       "        ...,\n",
       "\n",
       "        [[ 0.06510417],\n",
       "         [-0.04427083],\n",
       "         [ 0.7265625 ],\n",
       "         ...,\n",
       "         [-0.02864583],\n",
       "         [-0.109375  ],\n",
       "         [-0.29427083]],\n",
       "\n",
       "        [[ 0.13541667],\n",
       "         [-0.1171875 ],\n",
       "         [ 0.75520833],\n",
       "         ...,\n",
       "         [-0.04166667],\n",
       "         [-0.0234375 ],\n",
       "         [-0.04427083]],\n",
       "\n",
       "        [[ 0.47135417],\n",
       "         [ 0.05729167],\n",
       "         [ 0.53125   ],\n",
       "         ...,\n",
       "         [-0.30989583],\n",
       "         [-0.19270833],\n",
       "         [-0.09375   ]]],\n",
       "\n",
       "\n",
       "       ...,\n",
       "\n",
       "\n",
       "       [[[-0.82291667],\n",
       "         [-0.8203125 ],\n",
       "         [-0.8125    ],\n",
       "         ...,\n",
       "         [-0.80989583],\n",
       "         [-0.8203125 ],\n",
       "         [-0.81510417]],\n",
       "\n",
       "        [[-0.83072917],\n",
       "         [-0.83072917],\n",
       "         [-0.82552083],\n",
       "         ...,\n",
       "         [-0.80729167],\n",
       "         [-0.80989583],\n",
       "         [-0.81770833]],\n",
       "\n",
       "        [[-0.82552083],\n",
       "         [-0.82552083],\n",
       "         [-0.81770833],\n",
       "         ...,\n",
       "         [-0.7890625 ],\n",
       "         [-0.796875  ],\n",
       "         [-0.8203125 ]],\n",
       "\n",
       "        ...,\n",
       "\n",
       "        [[-0.8359375 ],\n",
       "         [-0.8359375 ],\n",
       "         [-0.828125  ],\n",
       "         ...,\n",
       "         [-0.84114583],\n",
       "         [-0.84114583],\n",
       "         [-0.84114583]],\n",
       "\n",
       "        [[-0.8359375 ],\n",
       "         [-0.8359375 ],\n",
       "         [-0.82552083],\n",
       "         ...,\n",
       "         [-0.83072917],\n",
       "         [-0.83072917],\n",
       "         [-0.83072917]],\n",
       "\n",
       "        [[-0.83333333],\n",
       "         [-0.82291667],\n",
       "         [-0.79427083],\n",
       "         ...,\n",
       "         [-0.828125  ],\n",
       "         [-0.83333333],\n",
       "         [-0.8359375 ]]],\n",
       "\n",
       "\n",
       "       [[[-0.50260417],\n",
       "         [-0.44010417],\n",
       "         [-0.375     ],\n",
       "         ...,\n",
       "         [ 0.9921875 ],\n",
       "         [ 0.9921875 ],\n",
       "         [ 0.9921875 ]],\n",
       "\n",
       "        [[-0.54166667],\n",
       "         [-0.46875   ],\n",
       "         [-0.3984375 ],\n",
       "         ...,\n",
       "         [ 0.9921875 ],\n",
       "         [ 0.9921875 ],\n",
       "         [ 0.9921875 ]],\n",
       "\n",
       "        [[-0.56510417],\n",
       "         [-0.48177083],\n",
       "         [-0.35677083],\n",
       "         ...,\n",
       "         [ 0.9921875 ],\n",
       "         [ 0.9921875 ],\n",
       "         [ 0.9921875 ]],\n",
       "\n",
       "        ...,\n",
       "\n",
       "        [[-0.6875    ],\n",
       "         [-0.68489583],\n",
       "         [-0.68229167],\n",
       "         ...,\n",
       "         [ 0.66145833],\n",
       "         [ 0.94010417],\n",
       "         [ 0.9921875 ]],\n",
       "\n",
       "        [[-0.69270833],\n",
       "         [-0.68229167],\n",
       "         [-0.67447917],\n",
       "         ...,\n",
       "         [ 0.51302083],\n",
       "         [ 0.91927083],\n",
       "         [ 0.98697917]],\n",
       "\n",
       "        [[-0.67708333],\n",
       "         [-0.66927083],\n",
       "         [-0.67708333],\n",
       "         ...,\n",
       "         [ 0.41666667],\n",
       "         [ 0.75520833],\n",
       "         [ 0.95833333]]],\n",
       "\n",
       "\n",
       "       [[[-0.59375   ],\n",
       "         [-0.5390625 ],\n",
       "         [-0.31510417],\n",
       "         ...,\n",
       "         [-0.18489583],\n",
       "         [-0.1171875 ],\n",
       "         [ 0.33854167]],\n",
       "\n",
       "        [[-0.56770833],\n",
       "         [-0.47135417],\n",
       "         [-0.34635417],\n",
       "         ...,\n",
       "         [-0.3046875 ],\n",
       "         [-0.08854167],\n",
       "         [ 0.63802083]],\n",
       "\n",
       "        [[-0.57291667],\n",
       "         [-0.41666667],\n",
       "         [-0.36979167],\n",
       "         ...,\n",
       "         [-0.41145833],\n",
       "         [-0.20052083],\n",
       "         [ 0.61197917]],\n",
       "\n",
       "        ...,\n",
       "\n",
       "        [[-0.70572917],\n",
       "         [-0.68229167],\n",
       "         [-0.7109375 ],\n",
       "         ...,\n",
       "         [ 0.72395833],\n",
       "         [ 0.84114583],\n",
       "         [ 0.95833333]],\n",
       "\n",
       "        [[-0.73177083],\n",
       "         [-0.72135417],\n",
       "         [-0.72916667],\n",
       "         ...,\n",
       "         [ 0.76041667],\n",
       "         [ 0.84635417],\n",
       "         [ 0.95572917]],\n",
       "\n",
       "        [[-0.72135417],\n",
       "         [-0.70572917],\n",
       "         [-0.7109375 ],\n",
       "         ...,\n",
       "         [ 0.734375  ],\n",
       "         [ 0.81770833],\n",
       "         [ 0.94010417]]]])"
      ]
     },
     "execution_count": 21,
     "metadata": {},
     "output_type": "execute_result"
    }
   ],
   "source": [
    "X_train_gray_norm"
   ]
  },
  {
   "cell_type": "code",
   "execution_count": 22,
   "id": "7d79a247",
   "metadata": {},
   "outputs": [
    {
     "data": {
      "text/plain": [
       "<matplotlib.image.AxesImage at 0x1f555b7e310>"
      ]
     },
     "execution_count": 22,
     "metadata": {},
     "output_type": "execute_result"
    },
    {
     "data": {
      "image/png": "[encoded data removed]",
      "text/plain": [
       "<Figure size 432x288 with 1 Axes>"
      ]
     },
     "metadata": {
      "needs_background": "light"
     },
     "output_type": "display_data"
    },
    {
     "data": {
      "image/png": "[encoded data removed]",
      "text/plain": [
       "<Figure size 432x288 with 1 Axes>"
      ]
     },
     "metadata": {
      "needs_background": "light"
     },
     "output_type": "display_data"
    },
    {
     "data": {
      "image/png": "[encoded data removed]",
      "text/plain": [
       "<Figure size 432x288 with 1 Axes>"
      ]
     },
     "metadata": {
      "needs_background": "light"
     },
     "output_type": "display_data"
    }
   ],
   "source": [
    "i = 610\n",
    "plt.imshow(X_train_gray[i].squeeze(), cmap = 'gray')\n",
    "plt.figure()\n",
    "plt.imshow(X_train[i])\n",
    "plt.figure()\n",
    "plt.imshow(X_train_gray_norm[i].squeeze(), cmap = 'gray')"
   ]
  },
  {
   "cell_type": "code",
   "execution_count": 28,
   "id": "d4ae54a5",
   "metadata": {},
   "outputs": [
    {
     "data": {
      "text/plain": [
       "<matplotlib.image.AxesImage at 0x218a166e730>"
      ]
     },
     "execution_count": 28,
     "metadata": {},
     "output_type": "execute_result"
    },
    {
     "data": {
      "image/png": "[encoded data removed]",
      "text/plain": [
       "<Figure size 432x288 with 1 Axes>"
      ]
     },
     "metadata": {
      "needs_background": "light"
     },
     "output_type": "display_data"
    },
    {
     "data": {
      "image/png": "[encoded data removed]",
      "text/plain": [
       "<Figure size 432x288 with 1 Axes>"
      ]
     },
     "metadata": {
      "needs_background": "light"
     },
     "output_type": "display_data"
    },
    {
     "data": {
      "image/png": "[encoded data removed]",
      "text/plain": [
       "<Figure size 432x288 with 1 Axes>"
      ]
     },
     "metadata": {
      "needs_background": "light"
     },
     "output_type": "display_data"
    }
   ],
   "source": [
    "i = 610\n",
    "plt.imshow(X_validation_gray[i].squeeze(), cmap = 'gray')\n",
    "plt.figure()\n",
    "plt.imshow(X_validation[i])\n",
    "plt.figure()\n",
    "plt.imshow(X_validation_gray_norm[i].squeeze(), cmap = 'gray')"
   ]
  },
  {
   "cell_type": "code",
   "execution_count": 23,
   "id": "3c1297f6",
   "metadata": {},
   "outputs": [
    {
     "data": {
      "text/plain": [
       "<matplotlib.image.AxesImage at 0x1f555cb2c10>"
      ]
     },
     "execution_count": 23,
     "metadata": {},
     "output_type": "execute_result"
    },
    {
     "data": {
      "image/png": "[encoded data removed]",
      "text/plain": [
       "<Figure size 432x288 with 1 Axes>"
      ]
     },
     "metadata": {
      "needs_background": "light"
     },
     "output_type": "display_data"
    },
    {
     "data": {
      "image/png": "[encoded data removed]",
      "text/plain": [
       "<Figure size 432x288 with 1 Axes>"
      ]
     },
     "metadata": {
      "needs_background": "light"
     },
     "output_type": "display_data"
    },
    {
     "data": {
      "image/png": "[encoded data removed]",
      "text/plain": [
       "<Figure size 432x288 with 1 Axes>"
      ]
     },
     "metadata": {
      "needs_background": "light"
     },
     "output_type": "display_data"
    }
   ],
   "source": [
    "i = 610\n",
    "plt.imshow(X_test_gray[i].squeeze(), cmap = 'gray')\n",
    "plt.figure()\n",
    "plt.imshow(X_test[i])\n",
    "plt.figure()\n",
    "plt.imshow(X_test_gray_norm[i].squeeze(), cmap = 'gray')"
   ]
  },
  {
   "cell_type": "markdown",
   "id": "10a60f14",
   "metadata": {},
   "source": [
    "# STEP 4: MODEL TRAINING"
   ]
  },
  {
   "cell_type": "markdown",
   "id": "50a7397b",
   "metadata": {},
   "source": [
    "The model consists of the following layers:\n",
    "\n",
    "* STEP 1: THE FIRST CONVOLUTONAL LAYER \n",
    "    - Input = 32x32x1\n",
    "    - Output = 28x28x6\n",
    "    - Output = (Input-filter+1)/Stride* => (32-5+1)/1=28\n",
    "    - Used a 5x5 Filter with input depth of 3 and otuput depth of 6\n",
    "    - Apply a RELU Activation function to the output\n",
    "    - Pooling for input, Input = 28x28x6 and Output = 14x14x6\n",
    "    \n",
    "    * Stride is the amount by which the kernel is shifted when the kernel is passed over the image.\n",
    "\n",
    "- STEP 2: THE SECOND CONVOLUTIONAL LAYER \n",
    "    - Input = 14x14x6\n",
    "    - Output = 10x10x16\n",
    "    - Layer 2: Convolutional layer with Output = 10x10x16\n",
    "    - Output = (Input-filter+1)/strides => 10 = 14-5+1/1\n",
    "    - Apply a RELU Activation function to the output\n",
    "    - Pooling with Input = 10x10x16 and Output = 5x5x16\n",
    "\n",
    "- STEP 3: FLATTENING THE NETWORK\n",
    "    - Flatten the network with Input = 5x5x16 and Output = 400\n",
    "\n",
    "- STEP 4: FULLY CONNECTED LAYER\n",
    "    - Layer 3: Fully Connected layer with Input = 400 and Output = 120\n",
    "    - Apply a RELU Activation function to the output\n",
    "\n",
    "- STEP 5: ANOTHER FULLY CONNECTED LAYER\n",
    "    - Layer 4: Fully Connected Layer with Input = 120 and Output = 84\n",
    "    - Apply a RELU Activation function to the output\n",
    "\n",
    "- STEP 6: FULLY CONNECTED LAYER\n",
    "    - Layer 5: Fully Connected layer with Input = 84 and Output = 43"
   ]
  },
  {
   "cell_type": "code",
   "execution_count": 24,
   "id": "57cdef1d",
   "metadata": {},
   "outputs": [],
   "source": [
    "from keras.models import Sequential\n",
    "from keras.layers import Conv2D, MaxPooling2D, AveragePooling2D, Dense, Flatten, Dropout\n",
    "from keras.optimizers import Adam\n",
    "from keras.callbacks import TensorBoard"
   ]
  },
  {
   "cell_type": "code",
   "execution_count": 26,
   "id": "0a3d7f58",
   "metadata": {},
   "outputs": [],
   "source": [
    "cnn_model = Sequential()\n",
    "\n",
    "cnn_model.add(Conv2D(filters = 6, kernel_size=(5,5), activation = 'relu', input_shape = (32,32,1)))\n",
    "cnn_model.add(AveragePooling2D())\n",
    "\n",
    "cnn_model.add(Conv2D(filters = 16, kernel_size=(5,5), activation = 'relu'))\n",
    "cnn_model.add(AveragePooling2D())\n",
    "\n",
    "cnn_model.add(Flatten())\n",
    "\n",
    "cnn_model.add(Dense(units = 120, activation = 'relu'))\n",
    "\n",
    "cnn_model.add(Dense(units = 84, activation = 'relu'))\n",
    "\n",
    "cnn_model.add(Dense(units = 43, activation = 'softmax'))"
   ]
  },
  {
   "cell_type": "code",
   "execution_count": 27,
   "id": "84c5bb39",
   "metadata": {},
   "outputs": [],
   "source": [
    "cnn_model.compile(loss = 'sparse_categorical_crossentropy', optimizer = Adam(learning_rate = 0.001), metrics = ['accuracy'])"
   ]
  },
  {
   "cell_type": "code",
   "execution_count": 28,
   "id": "a56d285b",
   "metadata": {},
   "outputs": [
    {
     "name": "stdout",
     "output_type": "stream",
     "text": [
      "Epoch 1/100\n",
      "70/70 [==============================] - 5s 65ms/step - loss: 3.1972 - accuracy: 0.1695 - val_loss: 2.7838 - val_accuracy: 0.2748\n",
      "Epoch 2/100\n",
      "70/70 [==============================] - 4s 58ms/step - loss: 1.7532 - accuracy: 0.5172 - val_loss: 1.4167 - val_accuracy: 0.6014\n",
      "Epoch 3/100\n",
      "70/70 [==============================] - 4s 54ms/step - loss: 0.9541 - accuracy: 0.7307 - val_loss: 1.0175 - val_accuracy: 0.6973\n",
      "Epoch 4/100\n",
      "70/70 [==============================] - 4s 54ms/step - loss: 0.6732 - accuracy: 0.8122 - val_loss: 0.8580 - val_accuracy: 0.7392\n",
      "Epoch 5/100\n",
      "70/70 [==============================] - 4s 54ms/step - loss: 0.5222 - accuracy: 0.8576 - val_loss: 0.7513 - val_accuracy: 0.7925\n",
      "Epoch 6/100\n",
      "70/70 [==============================] - 4s 54ms/step - loss: 0.4226 - accuracy: 0.8864 - val_loss: 0.7304 - val_accuracy: 0.7912\n",
      "Epoch 7/100\n",
      "70/70 [==============================] - 4s 55ms/step - loss: 0.3639 - accuracy: 0.9016 - val_loss: 0.6999 - val_accuracy: 0.8007\n",
      "Epoch 8/100\n",
      "70/70 [==============================] - 4s 56ms/step - loss: 0.3082 - accuracy: 0.9197 - val_loss: 0.6387 - val_accuracy: 0.8247\n",
      "Epoch 9/100\n",
      "70/70 [==============================] - 4s 55ms/step - loss: 0.2704 - accuracy: 0.9301 - val_loss: 0.6550 - val_accuracy: 0.8238\n",
      "Epoch 10/100\n",
      "70/70 [==============================] - 4s 58ms/step - loss: 0.2411 - accuracy: 0.9380 - val_loss: 0.6748 - val_accuracy: 0.8249\n",
      "Epoch 11/100\n",
      "70/70 [==============================] - 4s 56ms/step - loss: 0.2141 - accuracy: 0.9453 - val_loss: 0.6045 - val_accuracy: 0.8395\n",
      "Epoch 12/100\n",
      "70/70 [==============================] - 4s 60ms/step - loss: 0.1911 - accuracy: 0.9524 - val_loss: 0.5989 - val_accuracy: 0.8449\n",
      "Epoch 13/100\n",
      "70/70 [==============================] - 4s 61ms/step - loss: 0.1686 - accuracy: 0.9590 - val_loss: 0.6071 - val_accuracy: 0.8512\n",
      "Epoch 14/100\n",
      "70/70 [==============================] - 4s 63ms/step - loss: 0.1524 - accuracy: 0.9637 - val_loss: 0.5748 - val_accuracy: 0.8540\n",
      "Epoch 15/100\n",
      "70/70 [==============================] - 4s 61ms/step - loss: 0.1391 - accuracy: 0.9667 - val_loss: 0.5964 - val_accuracy: 0.8519\n",
      "Epoch 16/100\n",
      "70/70 [==============================] - 4s 60ms/step - loss: 0.1308 - accuracy: 0.9681 - val_loss: 0.5702 - val_accuracy: 0.8585\n",
      "Epoch 17/100\n",
      "70/70 [==============================] - 4s 60ms/step - loss: 0.1198 - accuracy: 0.9700 - val_loss: 0.5868 - val_accuracy: 0.8515\n",
      "Epoch 18/100\n",
      "70/70 [==============================] - 4s 60ms/step - loss: 0.1092 - accuracy: 0.9731 - val_loss: 0.6111 - val_accuracy: 0.8476\n",
      "Epoch 19/100\n",
      "70/70 [==============================] - 4s 61ms/step - loss: 0.0985 - accuracy: 0.9765 - val_loss: 0.6307 - val_accuracy: 0.8533\n",
      "Epoch 20/100\n",
      "70/70 [==============================] - 4s 60ms/step - loss: 0.0931 - accuracy: 0.9776 - val_loss: 0.6067 - val_accuracy: 0.8567\n",
      "Epoch 21/100\n",
      "70/70 [==============================] - 4s 60ms/step - loss: 0.0838 - accuracy: 0.9802 - val_loss: 0.6043 - val_accuracy: 0.8565\n",
      "Epoch 22/100\n",
      "70/70 [==============================] - 4s 59ms/step - loss: 0.0833 - accuracy: 0.9794 - val_loss: 0.6243 - val_accuracy: 0.8653\n",
      "Epoch 23/100\n",
      "70/70 [==============================] - 4s 59ms/step - loss: 0.0767 - accuracy: 0.9817 - val_loss: 0.6142 - val_accuracy: 0.8599\n",
      "Epoch 24/100\n",
      "70/70 [==============================] - 4s 58ms/step - loss: 0.0691 - accuracy: 0.9834 - val_loss: 0.6107 - val_accuracy: 0.8717\n",
      "Epoch 25/100\n",
      "70/70 [==============================] - 4s 58ms/step - loss: 0.0622 - accuracy: 0.9854 - val_loss: 0.6508 - val_accuracy: 0.8562\n",
      "Epoch 26/100\n",
      "70/70 [==============================] - 4s 59ms/step - loss: 0.0589 - accuracy: 0.9864 - val_loss: 0.6650 - val_accuracy: 0.8533\n",
      "Epoch 27/100\n",
      "70/70 [==============================] - 4s 58ms/step - loss: 0.0577 - accuracy: 0.9863 - val_loss: 0.6399 - val_accuracy: 0.8649\n",
      "Epoch 28/100\n",
      "70/70 [==============================] - 4s 58ms/step - loss: 0.0531 - accuracy: 0.9876 - val_loss: 0.6597 - val_accuracy: 0.8633\n",
      "Epoch 29/100\n",
      "70/70 [==============================] - 4s 59ms/step - loss: 0.0474 - accuracy: 0.9894 - val_loss: 0.7134 - val_accuracy: 0.8585\n",
      "Epoch 30/100\n",
      "70/70 [==============================] - 4s 59ms/step - loss: 0.0423 - accuracy: 0.9907 - val_loss: 0.6832 - val_accuracy: 0.8651\n",
      "Epoch 31/100\n",
      "70/70 [==============================] - 4s 58ms/step - loss: 0.0439 - accuracy: 0.9895 - val_loss: 0.7189 - val_accuracy: 0.8698\n",
      "Epoch 32/100\n",
      "70/70 [==============================] - 4s 59ms/step - loss: 0.0398 - accuracy: 0.9907 - val_loss: 0.6730 - val_accuracy: 0.8689\n",
      "Epoch 33/100\n",
      "70/70 [==============================] - 4s 59ms/step - loss: 0.0394 - accuracy: 0.9906 - val_loss: 0.6786 - val_accuracy: 0.8751\n",
      "Epoch 34/100\n",
      "70/70 [==============================] - 4s 59ms/step - loss: 0.0427 - accuracy: 0.9887 - val_loss: 0.6738 - val_accuracy: 0.8646\n",
      "Epoch 35/100\n",
      "70/70 [==============================] - 4s 58ms/step - loss: 0.0332 - accuracy: 0.9924 - val_loss: 0.6620 - val_accuracy: 0.8769\n",
      "Epoch 36/100\n",
      "70/70 [==============================] - 4s 59ms/step - loss: 0.0310 - accuracy: 0.9930 - val_loss: 0.7174 - val_accuracy: 0.8667\n",
      "Epoch 37/100\n",
      "70/70 [==============================] - 4s 59ms/step - loss: 0.0296 - accuracy: 0.9929 - val_loss: 0.7378 - val_accuracy: 0.8653\n",
      "Epoch 38/100\n",
      "70/70 [==============================] - 4s 60ms/step - loss: 0.0284 - accuracy: 0.9932 - val_loss: 0.6949 - val_accuracy: 0.8751\n",
      "Epoch 39/100\n",
      "70/70 [==============================] - 4s 59ms/step - loss: 0.0290 - accuracy: 0.9925 - val_loss: 0.7769 - val_accuracy: 0.8683\n",
      "Epoch 40/100\n",
      "70/70 [==============================] - 4s 58ms/step - loss: 0.0245 - accuracy: 0.9939 - val_loss: 0.7474 - val_accuracy: 0.8730\n",
      "Epoch 41/100\n",
      "70/70 [==============================] - 4s 58ms/step - loss: 0.0233 - accuracy: 0.9943 - val_loss: 0.7968 - val_accuracy: 0.8605\n",
      "Epoch 42/100\n",
      "70/70 [==============================] - 4s 59ms/step - loss: 0.0219 - accuracy: 0.9945 - val_loss: 0.7773 - val_accuracy: 0.8676\n",
      "Epoch 43/100\n",
      "70/70 [==============================] - 4s 60ms/step - loss: 0.0179 - accuracy: 0.9959 - val_loss: 0.8000 - val_accuracy: 0.8753\n",
      "Epoch 44/100\n",
      "70/70 [==============================] - 4s 58ms/step - loss: 0.0176 - accuracy: 0.9962 - val_loss: 0.7807 - val_accuracy: 0.8730\n",
      "Epoch 45/100\n",
      "70/70 [==============================] - 4s 60ms/step - loss: 0.0166 - accuracy: 0.9965 - val_loss: 0.8430 - val_accuracy: 0.8653\n",
      "Epoch 46/100\n",
      "70/70 [==============================] - 4s 60ms/step - loss: 0.0129 - accuracy: 0.9973 - val_loss: 0.7882 - val_accuracy: 0.8791\n",
      "Epoch 47/100\n",
      "70/70 [==============================] - 4s 58ms/step - loss: 0.0170 - accuracy: 0.9957 - val_loss: 0.8591 - val_accuracy: 0.8653\n",
      "Epoch 48/100\n",
      "70/70 [==============================] - 4s 59ms/step - loss: 0.0237 - accuracy: 0.9932 - val_loss: 0.8044 - val_accuracy: 0.8685\n",
      "Epoch 49/100\n",
      "70/70 [==============================] - 4s 59ms/step - loss: 0.0222 - accuracy: 0.9933 - val_loss: 0.8772 - val_accuracy: 0.8653\n",
      "Epoch 50/100\n",
      "70/70 [==============================] - 4s 59ms/step - loss: 0.0225 - accuracy: 0.9931 - val_loss: 0.7922 - val_accuracy: 0.8803\n",
      "Epoch 51/100\n",
      "70/70 [==============================] - 4s 59ms/step - loss: 0.0156 - accuracy: 0.9961 - val_loss: 0.7994 - val_accuracy: 0.8751\n",
      "Epoch 52/100\n",
      "70/70 [==============================] - 4s 58ms/step - loss: 0.0112 - accuracy: 0.9974 - val_loss: 0.8126 - val_accuracy: 0.8719\n",
      "Epoch 53/100\n",
      "70/70 [==============================] - 4s 57ms/step - loss: 0.0109 - accuracy: 0.9977 - val_loss: 0.7979 - val_accuracy: 0.8762\n",
      "Epoch 54/100\n",
      "70/70 [==============================] - 4s 57ms/step - loss: 0.0094 - accuracy: 0.9977 - val_loss: 0.8040 - val_accuracy: 0.8810\n",
      "Epoch 55/100\n",
      "70/70 [==============================] - 4s 58ms/step - loss: 0.0084 - accuracy: 0.9982 - val_loss: 0.8186 - val_accuracy: 0.8760\n",
      "Epoch 56/100\n",
      "70/70 [==============================] - 4s 58ms/step - loss: 0.0094 - accuracy: 0.9981 - val_loss: 0.8367 - val_accuracy: 0.8832\n",
      "Epoch 57/100\n",
      "70/70 [==============================] - 4s 58ms/step - loss: 0.0099 - accuracy: 0.9976 - val_loss: 0.8170 - val_accuracy: 0.8848\n",
      "Epoch 58/100\n"
     ]
    },
    {
     "name": "stdout",
     "output_type": "stream",
     "text": [
      "70/70 [==============================] - 4s 57ms/step - loss: 0.0133 - accuracy: 0.9966 - val_loss: 0.8231 - val_accuracy: 0.8821\n",
      "Epoch 59/100\n",
      "70/70 [==============================] - 4s 57ms/step - loss: 0.0365 - accuracy: 0.9881 - val_loss: 0.8201 - val_accuracy: 0.8748\n",
      "Epoch 60/100\n",
      "70/70 [==============================] - 4s 59ms/step - loss: 0.0289 - accuracy: 0.9915 - val_loss: 0.8373 - val_accuracy: 0.8723\n",
      "Epoch 61/100\n",
      "70/70 [==============================] - 4s 60ms/step - loss: 0.0110 - accuracy: 0.9971 - val_loss: 0.6918 - val_accuracy: 0.8839\n",
      "Epoch 62/100\n",
      "70/70 [==============================] - 4s 58ms/step - loss: 0.0058 - accuracy: 0.9992 - val_loss: 0.7745 - val_accuracy: 0.8866\n",
      "Epoch 63/100\n",
      "70/70 [==============================] - 4s 58ms/step - loss: 0.0052 - accuracy: 0.9992 - val_loss: 0.8215 - val_accuracy: 0.8771\n",
      "Epoch 64/100\n",
      "70/70 [==============================] - 4s 57ms/step - loss: 0.0042 - accuracy: 0.9994 - val_loss: 0.8050 - val_accuracy: 0.8914\n",
      "Epoch 65/100\n",
      "70/70 [==============================] - 4s 57ms/step - loss: 0.0039 - accuracy: 0.9995 - val_loss: 0.8547 - val_accuracy: 0.8785\n",
      "Epoch 66/100\n",
      "70/70 [==============================] - 4s 58ms/step - loss: 0.0035 - accuracy: 0.9995 - val_loss: 0.8295 - val_accuracy: 0.8853\n",
      "Epoch 67/100\n",
      "70/70 [==============================] - 4s 58ms/step - loss: 0.0028 - accuracy: 0.9997 - val_loss: 0.8170 - val_accuracy: 0.8837\n",
      "Epoch 68/100\n",
      "70/70 [==============================] - 4s 57ms/step - loss: 0.0024 - accuracy: 0.9997 - val_loss: 0.8960 - val_accuracy: 0.8753\n",
      "Epoch 69/100\n",
      "70/70 [==============================] - 4s 61ms/step - loss: 0.0035 - accuracy: 0.9995 - val_loss: 0.8178 - val_accuracy: 0.8871\n",
      "Epoch 70/100\n",
      "70/70 [==============================] - 4s 59ms/step - loss: 0.0096 - accuracy: 0.9974 - val_loss: 0.9521 - val_accuracy: 0.8723\n",
      "Epoch 71/100\n",
      "70/70 [==============================] - 4s 57ms/step - loss: 0.0259 - accuracy: 0.9916 - val_loss: 1.0469 - val_accuracy: 0.8653\n",
      "Epoch 72/100\n",
      "70/70 [==============================] - 4s 57ms/step - loss: 0.0273 - accuracy: 0.9914 - val_loss: 0.8603 - val_accuracy: 0.8773\n",
      "Epoch 73/100\n",
      "70/70 [==============================] - 4s 59ms/step - loss: 0.0261 - accuracy: 0.9920 - val_loss: 0.8211 - val_accuracy: 0.8669\n",
      "Epoch 74/100\n",
      "70/70 [==============================] - 4s 60ms/step - loss: 0.0140 - accuracy: 0.9958 - val_loss: 0.7561 - val_accuracy: 0.8837\n",
      "Epoch 75/100\n",
      "70/70 [==============================] - 4s 61ms/step - loss: 0.0039 - accuracy: 0.9994 - val_loss: 0.7620 - val_accuracy: 0.8907\n",
      "Epoch 76/100\n",
      "70/70 [==============================] - 4s 61ms/step - loss: 0.0028 - accuracy: 0.9998 - val_loss: 0.7776 - val_accuracy: 0.8866\n",
      "Epoch 77/100\n",
      "70/70 [==============================] - 4s 61ms/step - loss: 0.0019 - accuracy: 0.9999 - val_loss: 0.7848 - val_accuracy: 0.8846\n",
      "Epoch 78/100\n",
      "70/70 [==============================] - 4s 61ms/step - loss: 0.0019 - accuracy: 0.9998 - val_loss: 0.7917 - val_accuracy: 0.8825\n",
      "Epoch 79/100\n",
      "70/70 [==============================] - 4s 62ms/step - loss: 0.0022 - accuracy: 0.9997 - val_loss: 0.7825 - val_accuracy: 0.8889\n",
      "Epoch 80/100\n",
      "70/70 [==============================] - 4s 61ms/step - loss: 0.0025 - accuracy: 0.9995 - val_loss: 0.8209 - val_accuracy: 0.8873\n",
      "Epoch 81/100\n",
      "70/70 [==============================] - 4s 58ms/step - loss: 0.0026 - accuracy: 0.9995 - val_loss: 0.8204 - val_accuracy: 0.8893\n",
      "Epoch 82/100\n",
      "70/70 [==============================] - 4s 57ms/step - loss: 0.0015 - accuracy: 0.9999 - val_loss: 0.8274 - val_accuracy: 0.8893\n",
      "Epoch 83/100\n",
      "70/70 [==============================] - 4s 58ms/step - loss: 9.9582e-04 - accuracy: 1.0000 - val_loss: 0.8464 - val_accuracy: 0.8855\n",
      "Epoch 84/100\n",
      "70/70 [==============================] - 4s 57ms/step - loss: 9.7823e-04 - accuracy: 0.9999 - val_loss: 0.8515 - val_accuracy: 0.8841\n",
      "Epoch 85/100\n",
      "70/70 [==============================] - 4s 57ms/step - loss: 0.0032 - accuracy: 0.9994 - val_loss: 0.8865 - val_accuracy: 0.8773\n",
      "Epoch 86/100\n",
      "70/70 [==============================] - 4s 58ms/step - loss: 0.0641 - accuracy: 0.9816 - val_loss: 0.8056 - val_accuracy: 0.8762\n",
      "Epoch 87/100\n",
      "70/70 [==============================] - 4s 57ms/step - loss: 0.0173 - accuracy: 0.9946 - val_loss: 0.8063 - val_accuracy: 0.8841\n",
      "Epoch 88/100\n",
      "70/70 [==============================] - 4s 57ms/step - loss: 0.0061 - accuracy: 0.9988 - val_loss: 0.7994 - val_accuracy: 0.8816\n",
      "Epoch 89/100\n",
      "70/70 [==============================] - 4s 58ms/step - loss: 0.0029 - accuracy: 0.9996 - val_loss: 0.7335 - val_accuracy: 0.8991\n",
      "Epoch 90/100\n",
      "70/70 [==============================] - 4s 57ms/step - loss: 0.0016 - accuracy: 0.9999 - val_loss: 0.7397 - val_accuracy: 0.8930\n",
      "Epoch 91/100\n",
      "70/70 [==============================] - 4s 57ms/step - loss: 0.0016 - accuracy: 0.9998 - val_loss: 0.7581 - val_accuracy: 0.8907\n",
      "Epoch 92/100\n",
      "70/70 [==============================] - 4s 57ms/step - loss: 0.0016 - accuracy: 0.9998 - val_loss: 0.7371 - val_accuracy: 0.8966\n",
      "Epoch 93/100\n",
      "70/70 [==============================] - 4s 57ms/step - loss: 8.5041e-04 - accuracy: 1.0000 - val_loss: 0.7712 - val_accuracy: 0.8896\n",
      "Epoch 94/100\n",
      "70/70 [==============================] - 4s 58ms/step - loss: 0.0012 - accuracy: 0.9999 - val_loss: 0.7572 - val_accuracy: 0.8952\n",
      "Epoch 95/100\n",
      "70/70 [==============================] - 4s 57ms/step - loss: 0.0013 - accuracy: 0.9998 - val_loss: 0.8069 - val_accuracy: 0.8893\n",
      "Epoch 96/100\n",
      "70/70 [==============================] - 4s 58ms/step - loss: 0.0012 - accuracy: 0.9999 - val_loss: 0.7775 - val_accuracy: 0.8968\n",
      "Epoch 97/100\n",
      "70/70 [==============================] - 4s 58ms/step - loss: 8.2453e-04 - accuracy: 0.9999 - val_loss: 0.7807 - val_accuracy: 0.8971\n",
      "Epoch 98/100\n",
      "70/70 [==============================] - 4s 57ms/step - loss: 6.0897e-04 - accuracy: 1.0000 - val_loss: 0.8362 - val_accuracy: 0.8857\n",
      "Epoch 99/100\n",
      "70/70 [==============================] - 4s 57ms/step - loss: 6.4154e-04 - accuracy: 1.0000 - val_loss: 0.8294 - val_accuracy: 0.8916\n",
      "Epoch 100/100\n",
      "70/70 [==============================] - 4s 58ms/step - loss: 5.7928e-04 - accuracy: 1.0000 - val_loss: 0.8114 - val_accuracy: 0.8937\n"
     ]
    }
   ],
   "source": [
    "history = cnn_model.fit(X_train_gray_norm,\n",
    "             y_train,\n",
    "             batch_size = 500,\n",
    "             epochs = 100,\n",
    "             verbose = 1,\n",
    "             validation_data = (X_validation_gray_norm, y_validation))"
   ]
  },
  {
   "cell_type": "markdown",
   "id": "bdf430f7",
   "metadata": {},
   "source": [
    "# STEP 5: MODEL EVALUATION"
   ]
  },
  {
   "cell_type": "code",
   "execution_count": 29,
   "id": "e02ca5ac",
   "metadata": {},
   "outputs": [
    {
     "name": "stdout",
     "output_type": "stream",
     "text": [
      "395/395 [==============================] - 1s 2ms/step - loss: 1.3785 - accuracy: 0.8888\n",
      "Test Accuracy: 0.8887569308280945\n"
     ]
    }
   ],
   "source": [
    "score = cnn_model.evaluate(X_test_gray_norm, y_test)\n",
    "print('Test Accuracy: {}'.format(score[1]))"
   ]
  },
  {
   "cell_type": "code",
   "execution_count": 30,
   "id": "800794ea",
   "metadata": {},
   "outputs": [
    {
     "data": {
      "text/plain": [
       "dict_keys(['loss', 'accuracy', 'val_loss', 'val_accuracy'])"
      ]
     },
     "execution_count": 30,
     "metadata": {},
     "output_type": "execute_result"
    }
   ],
   "source": [
    "history.history.keys()                                                                                                                                                                                                                                                                                                                                                                                                                                                                                                                                                                                                                                                                                                                                                                                                                                                                                                                                                                                                                                                                                                                                                                                                                                                                                                                                                                                                                                                                                                                                                                                                                                                                                                                                                                                                                                                                                                                                                                                                                                                                                                                                                                                                                                                                                                                                                                                                                                                                                                                                                                                                                                                                                                                                                                                                                                                                                                                                                                                                                                                                                                                                                                                                                                                                                                                                                                                                                                                                                                                                   "
   ]
  },
  {
   "cell_type": "code",
   "execution_count": 33,
   "id": "79ead184",
   "metadata": {},
   "outputs": [
    {
     "data": {
      "text/plain": [
       "<matplotlib.legend.Legend at 0x1f59b5c1f10>"
      ]
     },
     "execution_count": 33,
     "metadata": {},
     "output_type": "execute_result"
    },
    {
     "data": {
      "image/png": "[encoded data removed]",
      "text/plain": [
       "<Figure size 432x288 with 1 Axes>"
      ]
     },
     "metadata": {
      "needs_background": "light"
     },
     "output_type": "display_data"
    }
   ],
   "source": [
    "accuracy = history.history['accuracy']\n",
    "val_accuracy = history.history['val_accuracy']\n",
    "loss = history.history['loss']\n",
    "val_loss = history.history['val_loss']\n",
    "\n",
    "epochs = range(len(accuracy))\n",
    "\n",
    "plt.plot(epochs, accuracy, 'bo', label='Training Accuracy')\n",
    "plt.plot(epochs, val_accuracy, 'b', label='Validation Accuracy')\n",
    "plt.title('Training and Validation accuracy')\n",
    "plt.legend()"
   ]
  },
  {
   "cell_type": "code",
   "execution_count": 34,
   "id": "c7cd1f1e",
   "metadata": {},
   "outputs": [
    {
     "data": {
      "image/png": "[encoded data removed]",
      "text/plain": [
       "<Figure size 432x288 with 1 Axes>"
      ]
     },
     "metadata": {
      "needs_background": "light"
     },
     "output_type": "display_data"
    }
   ],
   "source": [
    "plt.plot(epochs, loss, 'ro', label='Training Loss')\n",
    "plt.plot(epochs, val_loss, 'r', label='Validation Loss')\n",
    "plt.title('Training and validation loss')\n",
    "plt.legend()\n",
    "plt.show()"
   ]
  },
  {
   "cell_type": "code",
   "execution_count": null,
   "id": "e980a82d",
   "metadata": {},
   "outputs": [],
   "source": []
  },
  {
   "cell_type": "code",
   "execution_count": null,
   "id": "dd481875",
   "metadata": {},
   "outputs": [],
   "source": []
  }
 ],
 "metadata": {
  "kernelspec": {
   "display_name": "Python 3 (ipykernel)",
   "language": "python",
   "name": "python3"
  },
  "language_info": {
   "codemirror_mode": {
    "name": "ipython",
    "version": 3
   },
   "file_extension": ".py",
   "mimetype": "text/x-python",
   "name": "python",
   "nbconvert_exporter": "python",
   "pygments_lexer": "ipython3",
   "version": "3.9.12"
  }
 },
 "nbformat": 4,
 "nbformat_minor": 5
}
